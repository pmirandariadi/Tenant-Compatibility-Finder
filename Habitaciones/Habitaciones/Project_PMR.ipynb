{
 "cells": [
  {
   "cell_type": "code",
   "execution_count": 1,
   "metadata": {},
   "outputs": [],
   "source": [
    "import numpy as np\n",
    "import pandas as pd\n",
    "from sklearn.preprocessing import OneHotEncoder"
   ]
  },
  {
   "cell_type": "code",
   "execution_count": 2,
   "metadata": {},
   "outputs": [],
   "source": [
    "df = pd.read_csv(r'C:\\Users\\Nacho Miranda Riadi\\Desktop\\Proyectos python\\Habitaciones\\Habitaciones\\dataset_inquilinos.csv', index_col='id_inquilino')"
   ]
  },
  {
   "cell_type": "code",
   "execution_count": 3,
   "metadata": {},
   "outputs": [],
   "source": [
    "df.columns = [\n",
    "'horario', 'bioritmo', 'nivel_educativo', 'leer', 'animacion', \n",
    "'cine', 'mascotas', 'cocinar', 'deporte', 'dieta', 'fumador',\n",
    "'visitas', 'orden', 'musica_tipo', 'musica_alta', 'plan_perfecto', 'instrumento'\n",
    "]"
   ]
  },
  {
   "cell_type": "code",
   "execution_count": 4,
   "metadata": {},
   "outputs": [
    {
     "name": "stdout",
     "output_type": "stream",
     "text": [
      "<class 'pandas.core.frame.DataFrame'>\n",
      "Int64Index: 12000 entries, 1 to 12000\n",
      "Data columns (total 17 columns):\n",
      " #   Column           Non-Null Count  Dtype \n",
      "---  ------           --------------  ----- \n",
      " 0   horario          12000 non-null  object\n",
      " 1   bioritmo         12000 non-null  object\n",
      " 2   nivel_educativo  12000 non-null  object\n",
      " 3   leer             12000 non-null  object\n",
      " 4   animacion        12000 non-null  object\n",
      " 5   cine             12000 non-null  object\n",
      " 6   mascotas         12000 non-null  object\n",
      " 7   cocinar          12000 non-null  object\n",
      " 8   deporte          12000 non-null  object\n",
      " 9   dieta            12000 non-null  object\n",
      " 10  fumador          12000 non-null  object\n",
      " 11  visitas          12000 non-null  object\n",
      " 12  orden            12000 non-null  object\n",
      " 13  musica_tipo      12000 non-null  object\n",
      " 14  musica_alta      12000 non-null  object\n",
      " 15  plan_perfecto    12000 non-null  object\n",
      " 16  instrumento      12000 non-null  object\n",
      "dtypes: object(17)\n",
      "memory usage: 1.6+ MB\n"
     ]
    }
   ],
   "source": [
    "df.info()"
   ]
  },
  {
   "cell_type": "code",
   "execution_count": 6,
   "metadata": {},
   "outputs": [],
   "source": [
    "encoder = OneHotEncoder(sparse_output=False)\n",
    "df_encoded = encoder.fit_transform(df)"
   ]
  },
  {
   "cell_type": "code",
   "execution_count": 7,
   "metadata": {},
   "outputs": [
    {
     "data": {
      "text/plain": [
       "(12000, 37)"
      ]
     },
     "execution_count": 7,
     "metadata": {},
     "output_type": "execute_result"
    }
   ],
   "source": [
    "df_encoded.shape"
   ]
  },
  {
   "cell_type": "code",
   "execution_count": 8,
   "metadata": {},
   "outputs": [
    {
     "data": {
      "text/plain": [
       "reggaeton    3299\n",
       "pop          3147\n",
       "rock         2878\n",
       "clasica      2676\n",
       "Name: musica_tipo, dtype: int64"
      ]
     },
     "execution_count": 8,
     "metadata": {},
     "output_type": "execute_result"
    }
   ],
   "source": [
    "df['musica_tipo'].value_counts()"
   ]
  },
  {
   "cell_type": "code",
   "execution_count": 9,
   "metadata": {},
   "outputs": [],
   "source": [
    "encoded_feature_names = encoder.get_feature_names_out()\n"
   ]
  },
  {
   "cell_type": "code",
   "execution_count": null,
   "metadata": {},
   "outputs": [],
   "source": []
  },
  {
   "cell_type": "code",
   "execution_count": 10,
   "metadata": {},
   "outputs": [
    {
     "data": {
      "text/plain": [
       "array(['horario_mañana', 'horario_noche', 'bioritmo_madrugador',\n",
       "       'bioritmo_nocturno', 'nivel_educativo_primaria',\n",
       "       'nivel_educativo_secundaria', 'nivel_educativo_universitaria',\n",
       "       'leer_no', 'leer_si', 'animacion_no', 'animacion_si', 'cine_no',\n",
       "       'cine_si', 'mascotas_con mascotas', 'mascotas_sin mascotas',\n",
       "       'cocinar_cocinar', 'cocinar_pedir comida', 'deporte_no',\n",
       "       'deporte_si', 'dieta_no', 'dieta_si', 'fumador_no', 'fumador_si',\n",
       "       'visitas_no', 'visitas_si', 'orden_ordenada', 'orden_relajada',\n",
       "       'musica_tipo_clasica', 'musica_tipo_pop', 'musica_tipo_reggaeton',\n",
       "       'musica_tipo_rock', 'musica_alta_no', 'musica_alta_si',\n",
       "       'plan_perfecto_casa', 'plan_perfecto_salir', 'instrumento_no',\n",
       "       'instrumento_si'], dtype=object)"
      ]
     },
     "execution_count": 10,
     "metadata": {},
     "output_type": "execute_result"
    }
   ],
   "source": [
    "encoded_feature_names"
   ]
  },
  {
   "cell_type": "code",
   "execution_count": 11,
   "metadata": {},
   "outputs": [],
   "source": [
    "# 4. MATRIZ DE SIMILIARIDAD\n",
    "# Calcular la matriz de similaridad utilizando el punto producto\n",
    "matriz_s = np.dot(df_encoded, df_encoded.T)\n",
    "\n",
    "# Define el rango de destino\n",
    "rango_min = -100\n",
    "rango_max = 100\n",
    "\n",
    "# Encontrar el mínimo y máximo valor en matriz_s\n",
    "min_original = np.min(matriz_s)\n",
    "max_original = np.max(matriz_s)\n"
   ]
  },
  {
   "cell_type": "code",
   "execution_count": 12,
   "metadata": {},
   "outputs": [],
   "source": [
    "matriz_s_reescalada = ((matriz_s - min_original) / (max_original - min_original)) * (rango_max - rango_min) + rango_min\n"
   ]
  },
  {
   "cell_type": "code",
   "execution_count": 13,
   "metadata": {},
   "outputs": [],
   "source": [
    "# Pasar a Pandas\n",
    "df_similaridad = pd.DataFrame(matriz_s_reescalada,\n",
    "        index = df.index,\n",
    "        columns = df.index)\n",
    "\n",
    "\n",
    "# 5. BÚSQUEDA DE INQUILINOS COMPATIBLES"
   ]
  },
  {
   "cell_type": "code",
   "execution_count": 14,
   "metadata": {},
   "outputs": [],
   "source": [
    "def inquilinos_compatibles(id_inquilinos, topn):\n",
    "    # Verificar si todos los ID de inquilinos existen en la matriz de similaridad\n",
    "    for id_inquilino in id_inquilinos:\n",
    "        if id_inquilino not in df_similaridad.index:\n",
    "            return 'Al menos uno de los inquilinos no encontrado'\n",
    "\n",
    "    # Obtener las filas correspondientes a los inquilinos dados\n",
    "    filas_inquilinos = df_similaridad.loc[id_inquilinos]\n",
    "\n",
    "    # Calcular la similitud promedio entre los inquilinos\n",
    "    similitud_promedio = filas_inquilinos.mean(axis=0)\n",
    "\n",
    "    # Ordenar los inquilinos en función de su similitud promedio\n",
    "    inquilinos_similares = similitud_promedio.sort_values(ascending=False)\n",
    "\n",
    "    # Excluir los inquilinos de referencia (los que están en la lista)\n",
    "    inquilinos_similares = inquilinos_similares.drop(id_inquilinos)\n",
    "\n",
    "    # Tomar los topn inquilinos más similares\n",
    "    topn_inquilinos = inquilinos_similares.head(topn)\n",
    "\n",
    "    # Obtener los registros de los inquilinos similares\n",
    "    registros_similares = df.loc[topn_inquilinos.index]\n",
    "\n",
    "    # Obtener los registros de los inquilinos buscados\n",
    "    registros_buscados = df.loc[id_inquilinos]\n",
    "\n",
    "    # Concatenar los registros buscados con los registros similares en las columnas\n",
    "    resultado = pd.concat([registros_buscados.T, registros_similares.T], axis=1)\n",
    "\n",
    "    # Crear un objeto Series con la similitud de los inquilinos similares encontrados\n",
    "    similitud_series = pd.Series(data=topn_inquilinos.values, index=topn_inquilinos.index, name='Similitud')\n",
    "\n",
    "    # Devolver el resultado y el objeto Series\n",
    "    return(resultado, similitud_series)"
   ]
  },
  {
   "cell_type": "code",
   "execution_count": 21,
   "metadata": {},
   "outputs": [
    {
     "name": "stdout",
     "output_type": "stream",
     "text": [
      "Resultados de inquilinos compatibles:\n",
      "id_inquilino             1             6710\n",
      "horario                 noche         noche\n",
      "bioritmo             nocturno      nocturno\n",
      "nivel_educativo    secundaria    secundaria\n",
      "leer                       si            si\n",
      "animacion                  no            si\n",
      "cine                       no            no\n",
      "mascotas         con mascotas  con mascotas\n",
      "cocinar          pedir comida  pedir comida\n",
      "deporte                    si            si\n",
      "dieta                      si            si\n",
      "fumador                    si            si\n",
      "visitas                    si            si\n",
      "orden                relajada      relajada\n",
      "musica_tipo         reggaeton     reggaeton\n",
      "musica_alta                no            no\n",
      "plan_perfecto            casa          casa\n",
      "instrumento                si            si\n",
      "\n",
      "Similitud de inquilinos compatibles:\n",
      "id_inquilino\n",
      "6710    88.235294\n",
      "Name: Similitud, dtype: float64\n"
     ]
    }
   ],
   "source": [
    "id_inquilinos = [1]\n",
    "topn = 1\n",
    "resultado, similitud_series = inquilinos_compatibles(id_inquilinos, topn)\n",
    "\n",
    "# Mostrar los resultados\n",
    "print(\"Resultados de inquilinos compatibles:\")\n",
    "print(resultado)\n",
    "print(\"\\nSimilitud de inquilinos compatibles:\")\n",
    "print(similitud_series)"
   ]
  }
 ],
 "metadata": {
  "kernelspec": {
   "display_name": "base",
   "language": "python",
   "name": "python3"
  },
  "language_info": {
   "codemirror_mode": {
    "name": "ipython",
    "version": 3
   },
   "file_extension": ".py",
   "mimetype": "text/x-python",
   "name": "python",
   "nbconvert_exporter": "python",
   "pygments_lexer": "ipython3",
   "version": "3.9.7"
  }
 },
 "nbformat": 4,
 "nbformat_minor": 2
}
